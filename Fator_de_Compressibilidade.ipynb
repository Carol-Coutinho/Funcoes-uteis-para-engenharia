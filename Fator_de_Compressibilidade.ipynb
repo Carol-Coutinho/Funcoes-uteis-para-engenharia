{
  "nbformat": 4,
  "nbformat_minor": 0,
  "metadata": {
    "colab": {
      "provenance": [],
      "collapsed_sections": [],
      "authorship_tag": "ABX9TyPnNU9/Cy27CaVLR3S47Q07",
      "include_colab_link": true
    },
    "kernelspec": {
      "name": "python3",
      "display_name": "Python 3"
    },
    "language_info": {
      "name": "python"
    }
  },
  "cells": [
    {
      "cell_type": "markdown",
      "metadata": {
        "id": "view-in-github",
        "colab_type": "text"
      },
      "source": [
        "<a href=\"https://colab.research.google.com/github/Carol-Coutinho/Funcoes-uteis-para-engenharia/blob/main/Fator_de_Compressibilidade.ipynb\" target=\"_parent\"><img src=\"https://colab.research.google.com/assets/colab-badge.svg\" alt=\"Open In Colab\"/></a>"
      ]
    },
    {
      "cell_type": "markdown",
      "source": [
        "##Calculadora de Fator de Compressibilidade  (Z)"
      ],
      "metadata": {
        "id": "zsWgIXilUxUG"
      }
    },
    {
      "cell_type": "markdown",
      "source": [
        "### Caminho 1: Usando banco de dados prórpio."
      ],
      "metadata": {
        "id": "BPI3vzUNXiut"
      }
    },
    {
      "cell_type": "markdown",
      "source": [
        "Nesse caso o banco de dados está em unidade do S.I."
      ],
      "metadata": {
        "id": "Esf0QAo7G-lz"
      }
    },
    {
      "cell_type": "markdown",
      "source": [
        "https://hackernoon.com/how-to-create-a-compressibility-factor-calculator-in-python-jr183306 "
      ],
      "metadata": {
        "id": "XUuCXD_ebAhK"
      }
    },
    {
      "cell_type": "code",
      "source": [
        "# Preparando kernel\n",
        "import pandas as pd\n",
        "#import pickle\n",
        "!pip3 install pickle5\n",
        "import pickle5 as pickl\n",
        "import numpy as np"
      ],
      "metadata": {
        "colab": {
          "base_uri": "https://localhost:8080/"
        },
        "id": "zqzs8VMGVgIE",
        "outputId": "f6956d28-9930-4554-a0c2-39830ef6d2aa"
      },
      "execution_count": 33,
      "outputs": [
        {
          "output_type": "stream",
          "name": "stdout",
          "text": [
            "Looking in indexes: https://pypi.org/simple, https://us-python.pkg.dev/colab-wheels/public/simple/\n",
            "Requirement already satisfied: pickle5 in /usr/local/lib/python3.7/dist-packages (0.0.12)\n"
          ]
        }
      ]
    },
    {
      "cell_type": "code",
      "source": [
        "# Para ler/carregar\n",
        "with open('/content/databank_properties.pickle', 'rb') as handle:\n",
        "    dados, all_units = pickl.load(handle)"
      ],
      "metadata": {
        "id": "yUTGhehOVo4_",
        "colab": {
          "base_uri": "https://localhost:8080/",
          "height": 200
        },
        "outputId": "52a4b683-b9cd-4d3f-f308-b8a362f7214a"
      },
      "execution_count": 34,
      "outputs": [
        {
          "output_type": "error",
          "ename": "FileNotFoundError",
          "evalue": "ignored",
          "traceback": [
            "\u001b[0;31m---------------------------------------------------------------------------\u001b[0m",
            "\u001b[0;31mFileNotFoundError\u001b[0m                         Traceback (most recent call last)",
            "\u001b[0;32m<ipython-input-34-72e6bd0545eb>\u001b[0m in \u001b[0;36m<module>\u001b[0;34m\u001b[0m\n\u001b[1;32m      1\u001b[0m \u001b[0;31m# Para ler/carregar\u001b[0m\u001b[0;34m\u001b[0m\u001b[0;34m\u001b[0m\u001b[0;34m\u001b[0m\u001b[0m\n\u001b[0;32m----> 2\u001b[0;31m \u001b[0;32mwith\u001b[0m \u001b[0mopen\u001b[0m\u001b[0;34m(\u001b[0m\u001b[0;34m'/content/databank_properties.pickle'\u001b[0m\u001b[0;34m,\u001b[0m \u001b[0;34m'rb'\u001b[0m\u001b[0;34m)\u001b[0m \u001b[0;32mas\u001b[0m \u001b[0mhandle\u001b[0m\u001b[0;34m:\u001b[0m\u001b[0;34m\u001b[0m\u001b[0;34m\u001b[0m\u001b[0m\n\u001b[0m\u001b[1;32m      3\u001b[0m     \u001b[0mdados\u001b[0m\u001b[0;34m,\u001b[0m \u001b[0mall_units\u001b[0m \u001b[0;34m=\u001b[0m \u001b[0mpickl\u001b[0m\u001b[0;34m.\u001b[0m\u001b[0mload\u001b[0m\u001b[0;34m(\u001b[0m\u001b[0mhandle\u001b[0m\u001b[0;34m)\u001b[0m\u001b[0;34m\u001b[0m\u001b[0;34m\u001b[0m\u001b[0m\n",
            "\u001b[0;31mFileNotFoundError\u001b[0m: [Errno 2] No such file or directory: '/content/databank_properties.pickle'"
          ]
        }
      ]
    },
    {
      "cell_type": "code",
      "source": [
        "dados.columns"
      ],
      "metadata": {
        "id": "W37eSxXwV6gQ"
      },
      "execution_count": null,
      "outputs": []
    },
    {
      "cell_type": "code",
      "source": [
        "# Buscando o primeiro componente:\n",
        "filtro1 = dados.name.str.contains('METHANE')\n",
        "dados[filtro1]"
      ],
      "metadata": {
        "id": "q5dVV68uV7rb"
      },
      "execution_count": null,
      "outputs": []
    },
    {
      "cell_type": "markdown",
      "source": [
        "Metano = 295"
      ],
      "metadata": {
        "id": "TQ9e1kBxWoSs"
      }
    },
    {
      "cell_type": "code",
      "source": [
        "dados_met = dados.iloc[295]\n",
        "dados_met"
      ],
      "metadata": {
        "id": "63F7VDtqXYne"
      },
      "execution_count": null,
      "outputs": []
    },
    {
      "cell_type": "code",
      "source": [],
      "metadata": {
        "id": "gRSsUaXRNF63"
      },
      "execution_count": null,
      "outputs": []
    },
    {
      "cell_type": "markdown",
      "source": [
        "## Caminho 2: Sem banco de dados\n",
        "\n",
        "Baseado no código disponível em:\n",
        "\n",
        " https://hackernoon.com/how-to-create-a-compressibility-factor-calculator-in-python-jr183306 "
      ],
      "metadata": {
        "id": "B7MWIhJXHcHV"
      }
    },
    {
      "cell_type": "markdown",
      "source": [
        "Cálculo das pressões e temperaturas reduzidas:"
      ],
      "metadata": {
        "id": "RfSVwMQlNB_2"
      }
    },
    {
      "cell_type": "code",
      "source": [
        "# Reduced temperature\n",
        "# T and Tc have the units of °R.\n",
        "def reduced_temperature(temperature, tc):\n",
        "    tr = temperature / tc\n",
        "    return tr"
      ],
      "metadata": {
        "id": "n5ConNVzMTvd"
      },
      "execution_count": 21,
      "outputs": []
    },
    {
      "cell_type": "code",
      "source": [
        "# Reduced pressure\n",
        "# P and Pc have the units of psia\n",
        "def reduced_pressure(pressure, pc):\n",
        "    pr = pressure / pc\n",
        "    return pr"
      ],
      "metadata": {
        "id": "sDKeT6fWMU8d"
      },
      "execution_count": 22,
      "outputs": []
    },
    {
      "cell_type": "markdown",
      "source": [
        "Cálculo das constantes de Redlich-Kwong"
      ],
      "metadata": {
        "id": "RlS59S_qYdDN"
      }
    },
    {
      "cell_type": "code",
      "execution_count": 23,
      "metadata": {
        "id": "wAF9dmLYUwoT"
      },
      "outputs": [],
      "source": [
        "# Redlich-Kwong constant A\n",
        "def redlich_kwong_constant_a(pr, tr):\n",
        "    a = 0.42748 * (pr / tr ** 2.5)\n",
        "    return a\n",
        "\n",
        "\n",
        "# Redlich-Kwong constant B\n",
        "def redlich_kwong_constant_b(pr, tr):\n",
        "    b = 0.08664 * (pr / tr)\n",
        "    return b"
      ]
    },
    {
      "cell_type": "markdown",
      "source": [
        "Cálculo das constantes cúbicas:"
      ],
      "metadata": {
        "id": "fP8jTLCtYoZk"
      }
    },
    {
      "cell_type": "code",
      "source": [
        "# Cubic constant α\n",
        "def cubic_constant_alpha(a, b):\n",
        "    alpha = (1 / 3) * (3 * (a - b - b ** 2) - 1)\n",
        "    return alpha\n",
        "\n",
        "\n",
        "# Cubic constant β\n",
        "def cubic_constant_beta(a, b):\n",
        "    beta = (1 / 27) * (-2 + (9 * (a - b - b ** 2)) - (27 * a * b))\n",
        "    return beta"
      ],
      "metadata": {
        "id": "Ph2EuajRYkJe"
      },
      "execution_count": 24,
      "outputs": []
    },
    {
      "cell_type": "markdown",
      "source": [
        "Cálculo de D:"
      ],
      "metadata": {
        "id": "U7JD7-IEYuim"
      }
    },
    {
      "cell_type": "code",
      "source": [
        "# Discriminant\n",
        "def discriminant(alpha, beta):\n",
        "    d = (beta ** 2 / 4) + (alpha ** 3 / 27)\n",
        "    return d"
      ],
      "metadata": {
        "id": "yNlzTbAPYzIT"
      },
      "execution_count": 25,
      "outputs": []
    },
    {
      "cell_type": "markdown",
      "source": [
        "Cálculo das constantes A, B e $Θ$:"
      ],
      "metadata": {
        "id": "nzUiFByzNJx2"
      }
    },
    {
      "cell_type": "code",
      "source": [
        "# Solution Constant A*\n",
        "def solution_constant_a_star(beta, d):\n",
        "    a_star = np.cbrt((-beta / 2) + np.sqrt(d))\n",
        "    return a_star\n",
        "\n",
        "\n",
        "# Solution Constant B*\n",
        "def solution_constant_b_star(beta, d):\n",
        "    b_star = np.cbrt((-beta / 2) - np.sqrt(d))\n",
        "    return b_star\n",
        "\n",
        "\n",
        "# Solution Constant Theta\n",
        "def solution_constant_theta(beta, alpha):\n",
        "    theta = math.acos(-sign(beta) * (math.sqrt((beta ** 2 / 4) / (-alpha ** 3 / 27))))\n",
        "    return theta"
      ],
      "metadata": {
        "id": "WhzYG0NIZWM-"
      },
      "execution_count": 26,
      "outputs": []
    },
    {
      "cell_type": "markdown",
      "source": [
        "Cálculo de $β$"
      ],
      "metadata": {
        "id": "eB7I_pwnNU-e"
      }
    },
    {
      "cell_type": "code",
      "source": [
        "# SIGN(β)\n",
        "# If β > 0, SIGN(β) = 1\n",
        "# If β = 0, SIGN(β) = 0\n",
        "# If β < 0, SIGN(β) = -1\n",
        "def sign(beta):\n",
        "    if beta > 0:\n",
        "        sign_beta = 1\n",
        "    elif beta < 0:\n",
        "        sign_beta = -1\n",
        "    else:\n",
        "        sign_beta = 0\n",
        "    return sign_beta"
      ],
      "metadata": {
        "id": "6FEDt1MhZXmD"
      },
      "execution_count": 27,
      "outputs": []
    },
    {
      "cell_type": "markdown",
      "source": [
        "Cálculo das raízes de Z:"
      ],
      "metadata": {
        "id": "ywktukoVNauG"
      }
    },
    {
      "cell_type": "code",
      "source": [
        "# Trial Root Z1\n",
        "def trial_root_z1(a_star, b_star):\n",
        "    z1 = a_star + b_star + 1 / 3\n",
        "    return z1\n",
        "\n",
        "\n",
        "# Trial Root Zi\n",
        "# for i = 2, 3\n",
        "def trial_root_zi(a_star, b_star, i):\n",
        "    zi = (-(1 / 2) * (a_star + b_star)) + ((1 / 3) * i)\n",
        "    return zi\n",
        "\n",
        "\n",
        "# Trial Root Zi+1\n",
        "# for i = 1, 2, 3\n",
        "def trial_root_zi1(alpha, theta, i):\n",
        "    zi1 = (2 * math.sqrt(- alpha / 3) * math.cos((theta / 3) + (i * ((math.pi * 2) / 3)))) + (1 / 3)\n",
        "    return zi1"
      ],
      "metadata": {
        "id": "laB94-hiZaga"
      },
      "execution_count": 28,
      "outputs": []
    },
    {
      "cell_type": "markdown",
      "source": [
        "Tabela das contantes crísticas para alguns gases:"
      ],
      "metadata": {
        "id": "QGEC7qipNfGm"
      }
    },
    {
      "cell_type": "code",
      "source": [
        "def table_gas_critical_constants(gas_name):\n",
        "    \"\"\"\n",
        "    Retrieves gas critical constants table data\n",
        "    :param gas_name: Gas name\n",
        "    :type gas_name: str\n",
        "    :return: Gas critical constants data\n",
        "    :rtype: list\n",
        "    \"\"\"\n",
        "    gas_critical_constants = {\n",
        "        \"Air\": [238.56, 549.11, 28.965],\n",
        "        \"Carbon Dioxide\": [547.60, 1070.600, 44.011],\n",
        "        \"Hydrogen\": [59.82, 190.82, 2.02],\n",
        "        \"Methane\": [343.90, 673.100, 16.04],\n",
        "        \"Nitrogen\": [227.25, 492.420, 28.13],\n",
        "        \"Propane\": [666.00, 618.700, 44.09],\n",
        "        \"Typical Natural Gas\": [360.00, 777.373, 17.185]\n",
        "    }\n",
        "    return gas_critical_constants.get(gas_name)"
      ],
      "metadata": {
        "id": "kUXMvq5BZeD7"
      },
      "execution_count": 29,
      "outputs": []
    },
    {
      "cell_type": "markdown",
      "source": [
        "Definição da função de compressibilidade (Z): "
      ],
      "metadata": {
        "id": "8S-vinUdNnr-"
      }
    },
    {
      "cell_type": "code",
      "source": [
        "def compressibility_factor_calc(gas, temperature, pressure):\n",
        "    \"\"\"\n",
        "    Calculates compressibility factor\n",
        "    :param gas: Gas name\n",
        "    :type gas: str\n",
        "    :param temperature: Temperature\n",
        "    :type temperature: float\n",
        "    :param pressure: Pressure\n",
        "    :type pressure: float\n",
        "    :return: Compressibility factor(z)\n",
        "    :rtype: float\n",
        "    \"\"\"\n",
        "    values = table_gas_critical_constants(gas)\n",
        "    tc = values[0]\n",
        "    pc = values[1]\n",
        "    tr = reduced_temperature(temperature, tc)\n",
        "    pr = reduced_pressure(pressure, pc)\n",
        "    a = redlich_kwong_constant_a(pr, tr)\n",
        "    b = redlich_kwong_constant_b(pr, tr)\n",
        "    alpha = cubic_constant_alpha(a, b)\n",
        "    beta = cubic_constant_beta(a, b)\n",
        "    d = discriminant(alpha, beta)\n",
        "    if d < 0:\n",
        "        theta = solution_constant_theta(beta, alpha)\n",
        "        z1 = trial_root_zi1(alpha, theta, 1)\n",
        "        z2 = trial_root_zi1(alpha, theta, 2)\n",
        "        z3 = trial_root_zi1(alpha, theta, 3)\n",
        "    else:\n",
        "        a_star = solution_constant_a_star(beta, d)\n",
        "        b_star = solution_constant_b_star(beta, d)\n",
        "        if d == 0:\n",
        "            z1 = trial_root_z1(a_star, b_star)\n",
        "            z2 = trial_root_zi(a_star, b_star, 2)\n",
        "            z3 = trial_root_zi(a_star, b_star, 3)\n",
        "        else:\n",
        "            z = trial_root_z1(a_star, b_star)\n",
        "            return z\n",
        "    z = max(z1, z2, z3)\n",
        "    return z"
      ],
      "metadata": {
        "id": "g5F4lqLvaKcs"
      },
      "execution_count": 35,
      "outputs": []
    },
    {
      "cell_type": "markdown",
      "source": [
        "Teste da função:"
      ],
      "metadata": {
        "id": "EViuRSfpNvJf"
      }
    },
    {
      "cell_type": "code",
      "source": [
        "# Dados:\n",
        "\n",
        "P = 700 #pisa\n",
        "Temp = 68 + 459.67 #ºF"
      ],
      "metadata": {
        "id": "DqZO8mCmH_NM"
      },
      "execution_count": 36,
      "outputs": []
    },
    {
      "cell_type": "code",
      "source": [
        "Z_met = compressibility_factor_calc(\"Methane\", Temp, P)\n",
        "Z_met"
      ],
      "metadata": {
        "colab": {
          "base_uri": "https://localhost:8080/"
        },
        "id": "4MqzTKWTKrQY",
        "outputId": "b4384e4d-b2ca-4f3e-b84d-bae32155607a"
      },
      "execution_count": 38,
      "outputs": [
        {
          "output_type": "execute_result",
          "data": {
            "text/plain": [
              "0.9117596444632956"
            ]
          },
          "metadata": {},
          "execution_count": 38
        }
      ]
    }
  ]
}